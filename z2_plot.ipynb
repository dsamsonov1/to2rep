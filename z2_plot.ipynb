{
  "nbformat": 4,
  "nbformat_minor": 0,
  "metadata": {
    "colab": {
      "name": "z2_plot.ipynb",
      "provenance": [],
      "collapsed_sections": [],
      "include_colab_link": true
    },
    "kernelspec": {
      "name": "python3",
      "display_name": "Python 3"
    },
    "language_info": {
      "name": "python"
    }
  },
  "cells": [
    {
      "cell_type": "markdown",
      "metadata": {
        "id": "view-in-github",
        "colab_type": "text"
      },
      "source": [
        "<a href=\"https://colab.research.google.com/github/dsamsonov1/to2rep/blob/main/z2_plot.ipynb\" target=\"_parent\"><img src=\"https://colab.research.google.com/assets/colab-badge.svg\" alt=\"Open In Colab\"/></a>"
      ]
    },
    {
      "cell_type": "markdown",
      "source": [
        "Ввод пользовательских данных во второй ячейке"
      ],
      "metadata": {
        "id": "yL2VQywB7gMz"
      }
    },
    {
      "cell_type": "code",
      "execution_count": 1,
      "metadata": {
        "id": "HABumjCm61Wp"
      },
      "outputs": [],
      "source": [
        "'''\n",
        "SCRIPT\n",
        "'''\n",
        "def do():\n",
        "  import numpy as np\n",
        "  from matplotlib import pyplot as plt\n",
        "\n",
        "  def f(x, z1, z2):\n",
        "      tg = np.tan(x)\n",
        "      z = z1+1j*z2\n",
        "      return np.abs((1j*tg*(z-50)-z)/(1j*tg*(z+50)+z))**2\n",
        "\n",
        "  num_z1=num_z_re\n",
        "  num_z2=num_z_im\n",
        "  z1_0=z_re_0\n",
        "  z2_0=z_im_0\n",
        "  \n",
        "  x = np.linspace(0,1, num=num_x)*np.pi\n",
        "  if z_re_log:\n",
        "    z1 = z1_0+np.logspace(z_re_pow1, z_re_pow2, num=num_z1)\n",
        "  else:\n",
        "    z1 = np.linspace(z_re_min, z_re_max, num=num_z1)\n",
        "  if z_im_log:\n",
        "    z2 = z2_0+np.logspace(z_im_pow1, z_im_pow2, num=num_z2)\n",
        "  else:\n",
        "    z2 = np.linspace(z_im_min, z_im_max, num=num_z2)\n",
        "  Z1, Z2, X = np.meshgrid(z1, z2, x, indexing='ij') \n",
        "  Y=f(X, Z1, Z2)\n",
        "\n",
        "  z1_m_raw, z2_m_raw, x_m = np.where(Y<=ymin)\n",
        "  z1_m_raw=z1[z1_m_raw]\n",
        "  z2_m_raw=z2[z2_m_raw]\n",
        "  k = z1_m_raw[0]\n",
        "  m = z2_m_raw[0]\n",
        "  c = 0\n",
        "  z1_m, z2_m, w_m = [k], [m], []\n",
        "\n",
        "  for i in range(len(x_m)):\n",
        "      if z1_m_raw[i]==k and z2_m_raw[i]==m:\n",
        "          c+=1\n",
        "      else:\n",
        "          w_m.append(c)\n",
        "          c=1\n",
        "          z1_m.append(z1_m_raw[i])\n",
        "          z2_m.append(z2_m_raw[i])\n",
        "          k=z1_m[-1]\n",
        "          m=z2_m[-1]\n",
        "  w_m.append(c)\n",
        "  z1_m=np.array(z1_m)\n",
        "  z2_m=np.array(z2_m)\n",
        "  from scipy import interpolate\n",
        "  interp = interpolate.interp2d(z1_m, z2_m, w_m, bounds_error=False, fill_value=0)\n",
        "\n",
        "  Z1, Z2 = np.meshgrid(z1, z2)\n",
        "  w=np.empty_like(Z1)\n",
        "  for i in range(Z1.shape[0]):\n",
        "      for j in range(Z1.shape[1]):\n",
        "          w[i, j]=interp(Z1[i,j], Z2[i,j])\n",
        "  w[w<1]=0    \n",
        "  w*=(180/num_x)\n",
        "  plt.contourf(z1, z2, w)\n",
        "  if plot_points:\n",
        "    plt.plot(z1_m, z2_m, 'x', color='red')\n",
        "  plt.xlabel(\"$z_2'$\")\n",
        "  plt.ylabel(\"$z_2''$\")\n",
        "  if z_re_log:\n",
        "    plt.xscale('log')\n",
        "  if z_im_log:\n",
        "    plt.yscale('log')\n",
        "  plt.colorbar()\n",
        "  plt.show()"
      ]
    },
    {
      "cell_type": "markdown",
      "source": [
        "Не обращайте особо внимания на предупреждения. \n",
        "Красными крестиками отмечены точки в которых есть решение.\n",
        "Цветом обозначена ширина минимума (в градусах) (есть выбросы связанные с интерполяцией при отрисовке графика: если цветом есть не нулевое значение ширины, а красного крестика нет - это артефакт)"
      ],
      "metadata": {
        "id": "gt3JsTfo7-uz"
      }
    },
    {
      "cell_type": "code",
      "source": [
        "'''\n",
        "USER INPUT\n",
        "'''\n",
        "ymin=0.1          # ksqr<ymin\n",
        "num_x=1000        # resolution of x (number of points from 0 to Pi) \n",
        "num_z_re=100      # resolution of real part of z2\n",
        "num_z_im=100      # resolution of imaginary part of z2\n",
        "z_re_min=0      # real part of z belong [z_re_min, z_re_max]\n",
        "z_re_max=200      # real part of z belong [z_re_min, z_re_max]\n",
        "z_im_min=-100      # image part of z belong [z_im_min, z_im_max]\n",
        "z_im_max=100      # image part of z belong [z_im_min, z_im_max]\n",
        "z_re_log=False     # logarifm scale of real axis. if True - real part of z2 belong to [z_re_0+10^z_re_pow1, z_re_0+10^z_re_pow2]\n",
        "z_im_log=False    # logarifm scale of image axis. if True - image part of z2 belong to [z_im_0+10^z_im_pow1, z_im_0+10^z_im_pow2]\n",
        "z_re_pow1=-2       # set if z_re_log=True, else will be ignored\n",
        "z_re_pow2=3      # set if z_re_log=True, else will be ignored\n",
        "z_im_pow1=0       # set if z_im_log=True, else will be ignored\n",
        "z_im_pow2=1       # set if z_im_log=True, else will be ignored\n",
        "z_re_0=0          # set if z_re_log=True, else will be ignored; real part of z2 belong to [z_re_0+10^z_re_pow1, z_re_0+10^z_re_pow2]\n",
        "z_im_0=-15        # set if z_im_log=True, else will be ignored; image part of z2 belong to [z_im_0+10^z_im_pow1, z_im_0+10^z_im_pow2]\n",
        "\n",
        "plot_points=True\n",
        "###\n",
        "do()"
      ],
      "metadata": {
        "colab": {
          "base_uri": "https://localhost:8080/",
          "height": 375
        },
        "id": "y0mV7_qz7GZ3",
        "outputId": "96d4b087-e7e0-4d6e-f783-6a26c4a051f1"
      },
      "execution_count": 2,
      "outputs": [
        {
          "output_type": "stream",
          "name": "stderr",
          "text": [
            "/usr/local/lib/python3.7/dist-packages/scipy/interpolate/_fitpack_impl.py:977: RuntimeWarning: No more knots can be added because the number of B-spline\n",
            "coefficients already exceeds the number of data points m.\n",
            "Probable causes: either s or m too small. (fp>s)\n",
            "\tkx,ky=1,1 nx,ny=42,44 m=1662 fp=97.081835 s=0.000000\n",
            "  warnings.warn(RuntimeWarning(_iermess2[ierm][0] + _mess))\n"
          ]
        },
        {
          "output_type": "display_data",
          "data": {
            "text/plain": [
              "<Figure size 432x288 with 2 Axes>"
            ],
            "image/png": "[encoded data removed]"
          },
          "metadata": {
            "needs_background": "light"
          }
        }
      ]
    }
  ]
}